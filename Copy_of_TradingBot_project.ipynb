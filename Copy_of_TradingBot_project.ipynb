{
  "cells": [
    {
      "cell_type": "markdown",
      "metadata": {
        "id": "view-in-github",
        "colab_type": "text"
      },
      "source": [
        "<a href=\"https://colab.research.google.com/github/yonas255/AI-Formed_Trading-Bot/blob/main-2/Copy_of_TradingBot_project.ipynb\" target=\"_parent\"><img src=\"https://colab.research.google.com/assets/colab-badge.svg\" alt=\"Open In Colab\"/></a>"
      ]
    },
    {
      "cell_type": "code",
      "execution_count": 12,
      "metadata": {
        "colab": {
          "base_uri": "https://localhost:8080/",
          "height": 1000
        },
        "id": "eapsemCTf-CQ",
        "outputId": "48e0d846-d802-47ce-ba1f-b42a86c99282"
      },
      "outputs": [
        {
          "output_type": "display_data",
          "data": {
            "text/plain": [
              "<IPython.core.display.HTML object>"
            ],
            "text/html": [
              "\n",
              "     <input type=\"file\" id=\"files-1e5fe050-673b-492f-b4bb-70cae66e6041\" name=\"files[]\" multiple disabled\n",
              "        style=\"border:none\" />\n",
              "     <output id=\"result-1e5fe050-673b-492f-b4bb-70cae66e6041\">\n",
              "      Upload widget is only available when the cell has been executed in the\n",
              "      current browser session. Please rerun this cell to enable.\n",
              "      </output>\n",
              "      <script>// Copyright 2017 Google LLC\n",
              "//\n",
              "// Licensed under the Apache License, Version 2.0 (the \"License\");\n",
              "// you may not use this file except in compliance with the License.\n",
              "// You may obtain a copy of the License at\n",
              "//\n",
              "//      http://www.apache.org/licenses/LICENSE-2.0\n",
              "//\n",
              "// Unless required by applicable law or agreed to in writing, software\n",
              "// distributed under the License is distributed on an \"AS IS\" BASIS,\n",
              "// WITHOUT WARRANTIES OR CONDITIONS OF ANY KIND, either express or implied.\n",
              "// See the License for the specific language governing permissions and\n",
              "// limitations under the License.\n",
              "\n",
              "/**\n",
              " * @fileoverview Helpers for google.colab Python module.\n",
              " */\n",
              "(function(scope) {\n",
              "function span(text, styleAttributes = {}) {\n",
              "  const element = document.createElement('span');\n",
              "  element.textContent = text;\n",
              "  for (const key of Object.keys(styleAttributes)) {\n",
              "    element.style[key] = styleAttributes[key];\n",
              "  }\n",
              "  return element;\n",
              "}\n",
              "\n",
              "// Max number of bytes which will be uploaded at a time.\n",
              "const MAX_PAYLOAD_SIZE = 100 * 1024;\n",
              "\n",
              "function _uploadFiles(inputId, outputId) {\n",
              "  const steps = uploadFilesStep(inputId, outputId);\n",
              "  const outputElement = document.getElementById(outputId);\n",
              "  // Cache steps on the outputElement to make it available for the next call\n",
              "  // to uploadFilesContinue from Python.\n",
              "  outputElement.steps = steps;\n",
              "\n",
              "  return _uploadFilesContinue(outputId);\n",
              "}\n",
              "\n",
              "// This is roughly an async generator (not supported in the browser yet),\n",
              "// where there are multiple asynchronous steps and the Python side is going\n",
              "// to poll for completion of each step.\n",
              "// This uses a Promise to block the python side on completion of each step,\n",
              "// then passes the result of the previous step as the input to the next step.\n",
              "function _uploadFilesContinue(outputId) {\n",
              "  const outputElement = document.getElementById(outputId);\n",
              "  const steps = outputElement.steps;\n",
              "\n",
              "  const next = steps.next(outputElement.lastPromiseValue);\n",
              "  return Promise.resolve(next.value.promise).then((value) => {\n",
              "    // Cache the last promise value to make it available to the next\n",
              "    // step of the generator.\n",
              "    outputElement.lastPromiseValue = value;\n",
              "    return next.value.response;\n",
              "  });\n",
              "}\n",
              "\n",
              "/**\n",
              " * Generator function which is called between each async step of the upload\n",
              " * process.\n",
              " * @param {string} inputId Element ID of the input file picker element.\n",
              " * @param {string} outputId Element ID of the output display.\n",
              " * @return {!Iterable<!Object>} Iterable of next steps.\n",
              " */\n",
              "function* uploadFilesStep(inputId, outputId) {\n",
              "  const inputElement = document.getElementById(inputId);\n",
              "  inputElement.disabled = false;\n",
              "\n",
              "  const outputElement = document.getElementById(outputId);\n",
              "  outputElement.innerHTML = '';\n",
              "\n",
              "  const pickedPromise = new Promise((resolve) => {\n",
              "    inputElement.addEventListener('change', (e) => {\n",
              "      resolve(e.target.files);\n",
              "    });\n",
              "  });\n",
              "\n",
              "  const cancel = document.createElement('button');\n",
              "  inputElement.parentElement.appendChild(cancel);\n",
              "  cancel.textContent = 'Cancel upload';\n",
              "  const cancelPromise = new Promise((resolve) => {\n",
              "    cancel.onclick = () => {\n",
              "      resolve(null);\n",
              "    };\n",
              "  });\n",
              "\n",
              "  // Wait for the user to pick the files.\n",
              "  const files = yield {\n",
              "    promise: Promise.race([pickedPromise, cancelPromise]),\n",
              "    response: {\n",
              "      action: 'starting',\n",
              "    }\n",
              "  };\n",
              "\n",
              "  cancel.remove();\n",
              "\n",
              "  // Disable the input element since further picks are not allowed.\n",
              "  inputElement.disabled = true;\n",
              "\n",
              "  if (!files) {\n",
              "    return {\n",
              "      response: {\n",
              "        action: 'complete',\n",
              "      }\n",
              "    };\n",
              "  }\n",
              "\n",
              "  for (const file of files) {\n",
              "    const li = document.createElement('li');\n",
              "    li.append(span(file.name, {fontWeight: 'bold'}));\n",
              "    li.append(span(\n",
              "        `(${file.type || 'n/a'}) - ${file.size} bytes, ` +\n",
              "        `last modified: ${\n",
              "            file.lastModifiedDate ? file.lastModifiedDate.toLocaleDateString() :\n",
              "                                    'n/a'} - `));\n",
              "    const percent = span('0% done');\n",
              "    li.appendChild(percent);\n",
              "\n",
              "    outputElement.appendChild(li);\n",
              "\n",
              "    const fileDataPromise = new Promise((resolve) => {\n",
              "      const reader = new FileReader();\n",
              "      reader.onload = (e) => {\n",
              "        resolve(e.target.result);\n",
              "      };\n",
              "      reader.readAsArrayBuffer(file);\n",
              "    });\n",
              "    // Wait for the data to be ready.\n",
              "    let fileData = yield {\n",
              "      promise: fileDataPromise,\n",
              "      response: {\n",
              "        action: 'continue',\n",
              "      }\n",
              "    };\n",
              "\n",
              "    // Use a chunked sending to avoid message size limits. See b/62115660.\n",
              "    let position = 0;\n",
              "    do {\n",
              "      const length = Math.min(fileData.byteLength - position, MAX_PAYLOAD_SIZE);\n",
              "      const chunk = new Uint8Array(fileData, position, length);\n",
              "      position += length;\n",
              "\n",
              "      const base64 = btoa(String.fromCharCode.apply(null, chunk));\n",
              "      yield {\n",
              "        response: {\n",
              "          action: 'append',\n",
              "          file: file.name,\n",
              "          data: base64,\n",
              "        },\n",
              "      };\n",
              "\n",
              "      let percentDone = fileData.byteLength === 0 ?\n",
              "          100 :\n",
              "          Math.round((position / fileData.byteLength) * 100);\n",
              "      percent.textContent = `${percentDone}% done`;\n",
              "\n",
              "    } while (position < fileData.byteLength);\n",
              "  }\n",
              "\n",
              "  // All done.\n",
              "  yield {\n",
              "    response: {\n",
              "      action: 'complete',\n",
              "    }\n",
              "  };\n",
              "}\n",
              "\n",
              "scope.google = scope.google || {};\n",
              "scope.google.colab = scope.google.colab || {};\n",
              "scope.google.colab._files = {\n",
              "  _uploadFiles,\n",
              "  _uploadFilesContinue,\n",
              "};\n",
              "})(self);\n",
              "</script> "
            ]
          },
          "metadata": {}
        },
        {
          "output_type": "stream",
          "name": "stdout",
          "text": [
            "Saving .env to .env (4)\n"
          ]
        },
        {
          "output_type": "stream",
          "name": "stderr",
          "text": [
            "WARNING:praw:It appears that you are using PRAW in an asynchronous environment.\n",
            "It is strongly recommended to use Async PRAW: https://asyncpraw.readthedocs.io.\n",
            "See https://praw.readthedocs.io/en/latest/getting_started/multiple_instances.html#discord-bots-and-asynchronous-environments for more info.\n",
            "\n"
          ]
        },
        {
          "output_type": "stream",
          "name": "stdout",
          "text": [
            "✅ Headers added to Google Sheet.\n",
            "✅ Reddit API is ready: True\n",
            "\n",
            "⏱️ Run 1/6 - 2025-05-22 16:09:06.637857 UTC\n",
            "\n",
            "🔍 Scanning r/Bitcoin...\n"
          ]
        },
        {
          "output_type": "stream",
          "name": "stderr",
          "text": [
            "WARNING:praw:It appears that you are using PRAW in an asynchronous environment.\n",
            "It is strongly recommended to use Async PRAW: https://asyncpraw.readthedocs.io.\n",
            "See https://praw.readthedocs.io/en/latest/getting_started/multiple_instances.html#discord-bots-and-asynchronous-environments for more info.\n",
            "\n"
          ]
        },
        {
          "output_type": "stream",
          "name": "stdout",
          "text": [
            "🔍 Scanning r/CryptoCurrency...\n"
          ]
        },
        {
          "output_type": "stream",
          "name": "stderr",
          "text": [
            "WARNING:praw:It appears that you are using PRAW in an asynchronous environment.\n",
            "It is strongly recommended to use Async PRAW: https://asyncpraw.readthedocs.io.\n",
            "See https://praw.readthedocs.io/en/latest/getting_started/multiple_instances.html#discord-bots-and-asynchronous-environments for more info.\n",
            "\n"
          ]
        },
        {
          "output_type": "stream",
          "name": "stdout",
          "text": [
            "🔍 Scanning r/CryptoMarkets...\n"
          ]
        },
        {
          "output_type": "stream",
          "name": "stderr",
          "text": [
            "WARNING:praw:It appears that you are using PRAW in an asynchronous environment.\n",
            "It is strongly recommended to use Async PRAW: https://asyncpraw.readthedocs.io.\n",
            "See https://praw.readthedocs.io/en/latest/getting_started/multiple_instances.html#discord-bots-and-asynchronous-environments for more info.\n",
            "\n"
          ]
        },
        {
          "output_type": "stream",
          "name": "stdout",
          "text": [
            "🔍 Scanning r/Ethereum...\n"
          ]
        },
        {
          "output_type": "stream",
          "name": "stderr",
          "text": [
            "WARNING:praw:It appears that you are using PRAW in an asynchronous environment.\n",
            "It is strongly recommended to use Async PRAW: https://asyncpraw.readthedocs.io.\n",
            "See https://praw.readthedocs.io/en/latest/getting_started/multiple_instances.html#discord-bots-and-asynchronous-environments for more info.\n",
            "\n"
          ]
        },
        {
          "output_type": "stream",
          "name": "stdout",
          "text": [
            "🔍 Scanning r/CryptoMoonShots...\n",
            "\n",
            "📊 Sentiment Totals: Positive=160, Negative=65, Neutral=267\n",
            "📢 Decision: BUY\n",
            "💰 Live BTC Price: $111356\n",
            "✅ Bought 0.000898 BTC at $111356.00\n",
            "📁 Logged trade to 'sentiment_trade_log.txt'\n",
            "📤 Logged to Google Sheet: ['2025-05-22 16:09:13', 'BUY', '0.1931', '111356.00', '900.00', '0.000898']\n",
            "📧 Email sent! Status: 202\n",
            "⏳ Waiting 10 seconds...\n",
            "\n"
          ]
        },
        {
          "output_type": "stream",
          "name": "stderr",
          "text": [
            "WARNING:praw:It appears that you are using PRAW in an asynchronous environment.\n",
            "It is strongly recommended to use Async PRAW: https://asyncpraw.readthedocs.io.\n",
            "See https://praw.readthedocs.io/en/latest/getting_started/multiple_instances.html#discord-bots-and-asynchronous-environments for more info.\n",
            "\n"
          ]
        },
        {
          "output_type": "stream",
          "name": "stdout",
          "text": [
            "\n",
            "⏱️ Run 2/6 - 2025-05-22 16:09:24.147053 UTC\n",
            "\n",
            "🔍 Scanning r/Bitcoin...\n"
          ]
        },
        {
          "output_type": "stream",
          "name": "stderr",
          "text": [
            "WARNING:praw:It appears that you are using PRAW in an asynchronous environment.\n",
            "It is strongly recommended to use Async PRAW: https://asyncpraw.readthedocs.io.\n",
            "See https://praw.readthedocs.io/en/latest/getting_started/multiple_instances.html#discord-bots-and-asynchronous-environments for more info.\n",
            "\n"
          ]
        },
        {
          "output_type": "stream",
          "name": "stdout",
          "text": [
            "🔍 Scanning r/CryptoCurrency...\n"
          ]
        },
        {
          "output_type": "stream",
          "name": "stderr",
          "text": [
            "WARNING:praw:It appears that you are using PRAW in an asynchronous environment.\n",
            "It is strongly recommended to use Async PRAW: https://asyncpraw.readthedocs.io.\n",
            "See https://praw.readthedocs.io/en/latest/getting_started/multiple_instances.html#discord-bots-and-asynchronous-environments for more info.\n",
            "\n"
          ]
        },
        {
          "output_type": "stream",
          "name": "stdout",
          "text": [
            "🔍 Scanning r/CryptoMarkets...\n"
          ]
        },
        {
          "output_type": "stream",
          "name": "stderr",
          "text": [
            "WARNING:praw:It appears that you are using PRAW in an asynchronous environment.\n",
            "It is strongly recommended to use Async PRAW: https://asyncpraw.readthedocs.io.\n",
            "See https://praw.readthedocs.io/en/latest/getting_started/multiple_instances.html#discord-bots-and-asynchronous-environments for more info.\n",
            "\n"
          ]
        },
        {
          "output_type": "stream",
          "name": "stdout",
          "text": [
            "🔍 Scanning r/Ethereum...\n"
          ]
        },
        {
          "output_type": "stream",
          "name": "stderr",
          "text": [
            "WARNING:praw:It appears that you are using PRAW in an asynchronous environment.\n",
            "It is strongly recommended to use Async PRAW: https://asyncpraw.readthedocs.io.\n",
            "See https://praw.readthedocs.io/en/latest/getting_started/multiple_instances.html#discord-bots-and-asynchronous-environments for more info.\n",
            "\n"
          ]
        },
        {
          "output_type": "stream",
          "name": "stdout",
          "text": [
            "🔍 Scanning r/CryptoMoonShots...\n",
            "\n",
            "📊 Sentiment Totals: Positive=160, Negative=65, Neutral=267\n",
            "📢 Decision: BUY\n",
            "💰 Live BTC Price: $111372\n",
            "✅ Bought 0.000898 BTC at $111372.00\n",
            "📁 Logged trade to 'sentiment_trade_log.txt'\n",
            "📤 Logged to Google Sheet: ['2025-05-22 16:09:31', 'BUY', '0.1931', '111372.00', '800.00', '0.001796']\n",
            "📧 Email sent! Status: 202\n",
            "⏳ Waiting 10 seconds...\n",
            "\n"
          ]
        },
        {
          "output_type": "stream",
          "name": "stderr",
          "text": [
            "WARNING:praw:It appears that you are using PRAW in an asynchronous environment.\n",
            "It is strongly recommended to use Async PRAW: https://asyncpraw.readthedocs.io.\n",
            "See https://praw.readthedocs.io/en/latest/getting_started/multiple_instances.html#discord-bots-and-asynchronous-environments for more info.\n",
            "\n"
          ]
        },
        {
          "output_type": "stream",
          "name": "stdout",
          "text": [
            "\n",
            "⏱️ Run 3/6 - 2025-05-22 16:09:41.357152 UTC\n",
            "\n",
            "🔍 Scanning r/Bitcoin...\n"
          ]
        },
        {
          "output_type": "stream",
          "name": "stderr",
          "text": [
            "WARNING:praw:It appears that you are using PRAW in an asynchronous environment.\n",
            "It is strongly recommended to use Async PRAW: https://asyncpraw.readthedocs.io.\n",
            "See https://praw.readthedocs.io/en/latest/getting_started/multiple_instances.html#discord-bots-and-asynchronous-environments for more info.\n",
            "\n"
          ]
        },
        {
          "output_type": "stream",
          "name": "stdout",
          "text": [
            "🔍 Scanning r/CryptoCurrency...\n"
          ]
        },
        {
          "output_type": "stream",
          "name": "stderr",
          "text": [
            "WARNING:praw:It appears that you are using PRAW in an asynchronous environment.\n",
            "It is strongly recommended to use Async PRAW: https://asyncpraw.readthedocs.io.\n",
            "See https://praw.readthedocs.io/en/latest/getting_started/multiple_instances.html#discord-bots-and-asynchronous-environments for more info.\n",
            "\n"
          ]
        },
        {
          "output_type": "stream",
          "name": "stdout",
          "text": [
            "🔍 Scanning r/CryptoMarkets...\n"
          ]
        },
        {
          "output_type": "stream",
          "name": "stderr",
          "text": [
            "WARNING:praw:It appears that you are using PRAW in an asynchronous environment.\n",
            "It is strongly recommended to use Async PRAW: https://asyncpraw.readthedocs.io.\n",
            "See https://praw.readthedocs.io/en/latest/getting_started/multiple_instances.html#discord-bots-and-asynchronous-environments for more info.\n",
            "\n"
          ]
        },
        {
          "output_type": "stream",
          "name": "stdout",
          "text": [
            "🔍 Scanning r/Ethereum...\n"
          ]
        },
        {
          "output_type": "stream",
          "name": "stderr",
          "text": [
            "WARNING:praw:It appears that you are using PRAW in an asynchronous environment.\n",
            "It is strongly recommended to use Async PRAW: https://asyncpraw.readthedocs.io.\n",
            "See https://praw.readthedocs.io/en/latest/getting_started/multiple_instances.html#discord-bots-and-asynchronous-environments for more info.\n",
            "\n"
          ]
        },
        {
          "output_type": "stream",
          "name": "stdout",
          "text": [
            "🔍 Scanning r/CryptoMoonShots...\n",
            "\n",
            "📊 Sentiment Totals: Positive=160, Negative=65, Neutral=267\n",
            "📢 Decision: BUY\n",
            "💰 Live BTC Price: $111372\n",
            "✅ Bought 0.000898 BTC at $111372.00\n",
            "📁 Logged trade to 'sentiment_trade_log.txt'\n",
            "📤 Logged to Google Sheet: ['2025-05-22 16:09:47', 'BUY', '0.1931', '111372.00', '700.00', '0.002694']\n",
            "📧 Email sent! Status: 202\n",
            "⏳ Waiting 10 seconds...\n",
            "\n"
          ]
        },
        {
          "output_type": "stream",
          "name": "stderr",
          "text": [
            "WARNING:praw:It appears that you are using PRAW in an asynchronous environment.\n",
            "It is strongly recommended to use Async PRAW: https://asyncpraw.readthedocs.io.\n",
            "See https://praw.readthedocs.io/en/latest/getting_started/multiple_instances.html#discord-bots-and-asynchronous-environments for more info.\n",
            "\n"
          ]
        },
        {
          "output_type": "stream",
          "name": "stdout",
          "text": [
            "\n",
            "⏱️ Run 4/6 - 2025-05-22 16:09:58.290302 UTC\n",
            "\n",
            "🔍 Scanning r/Bitcoin...\n"
          ]
        },
        {
          "output_type": "stream",
          "name": "stderr",
          "text": [
            "WARNING:praw:It appears that you are using PRAW in an asynchronous environment.\n",
            "It is strongly recommended to use Async PRAW: https://asyncpraw.readthedocs.io.\n",
            "See https://praw.readthedocs.io/en/latest/getting_started/multiple_instances.html#discord-bots-and-asynchronous-environments for more info.\n",
            "\n"
          ]
        },
        {
          "output_type": "stream",
          "name": "stdout",
          "text": [
            "🔍 Scanning r/CryptoCurrency...\n"
          ]
        },
        {
          "output_type": "stream",
          "name": "stderr",
          "text": [
            "WARNING:praw:It appears that you are using PRAW in an asynchronous environment.\n",
            "It is strongly recommended to use Async PRAW: https://asyncpraw.readthedocs.io.\n",
            "See https://praw.readthedocs.io/en/latest/getting_started/multiple_instances.html#discord-bots-and-asynchronous-environments for more info.\n",
            "\n"
          ]
        },
        {
          "output_type": "stream",
          "name": "stdout",
          "text": [
            "🔍 Scanning r/CryptoMarkets...\n"
          ]
        },
        {
          "output_type": "stream",
          "name": "stderr",
          "text": [
            "WARNING:praw:It appears that you are using PRAW in an asynchronous environment.\n",
            "It is strongly recommended to use Async PRAW: https://asyncpraw.readthedocs.io.\n",
            "See https://praw.readthedocs.io/en/latest/getting_started/multiple_instances.html#discord-bots-and-asynchronous-environments for more info.\n",
            "\n"
          ]
        },
        {
          "output_type": "stream",
          "name": "stdout",
          "text": [
            "🔍 Scanning r/Ethereum...\n"
          ]
        },
        {
          "output_type": "stream",
          "name": "stderr",
          "text": [
            "WARNING:praw:It appears that you are using PRAW in an asynchronous environment.\n",
            "It is strongly recommended to use Async PRAW: https://asyncpraw.readthedocs.io.\n",
            "See https://praw.readthedocs.io/en/latest/getting_started/multiple_instances.html#discord-bots-and-asynchronous-environments for more info.\n",
            "\n"
          ]
        },
        {
          "output_type": "stream",
          "name": "stdout",
          "text": [
            "🔍 Scanning r/CryptoMoonShots...\n",
            "\n",
            "📊 Sentiment Totals: Positive=160, Negative=65, Neutral=267\n",
            "📢 Decision: BUY\n",
            "💰 Live BTC Price: $111372\n",
            "✅ Bought 0.000898 BTC at $111372.00\n",
            "📁 Logged trade to 'sentiment_trade_log.txt'\n",
            "📤 Logged to Google Sheet: ['2025-05-22 16:10:05', 'BUY', '0.1931', '111372.00', '600.00', '0.003592']\n",
            "📧 Email sent! Status: 202\n",
            "⏳ Waiting 10 seconds...\n",
            "\n"
          ]
        },
        {
          "output_type": "stream",
          "name": "stderr",
          "text": [
            "WARNING:praw:It appears that you are using PRAW in an asynchronous environment.\n",
            "It is strongly recommended to use Async PRAW: https://asyncpraw.readthedocs.io.\n",
            "See https://praw.readthedocs.io/en/latest/getting_started/multiple_instances.html#discord-bots-and-asynchronous-environments for more info.\n",
            "\n"
          ]
        },
        {
          "output_type": "stream",
          "name": "stdout",
          "text": [
            "\n",
            "⏱️ Run 5/6 - 2025-05-22 16:10:15.616745 UTC\n",
            "\n",
            "🔍 Scanning r/Bitcoin...\n"
          ]
        },
        {
          "output_type": "stream",
          "name": "stderr",
          "text": [
            "WARNING:praw:It appears that you are using PRAW in an asynchronous environment.\n",
            "It is strongly recommended to use Async PRAW: https://asyncpraw.readthedocs.io.\n",
            "See https://praw.readthedocs.io/en/latest/getting_started/multiple_instances.html#discord-bots-and-asynchronous-environments for more info.\n",
            "\n"
          ]
        },
        {
          "output_type": "stream",
          "name": "stdout",
          "text": [
            "🔍 Scanning r/CryptoCurrency...\n"
          ]
        },
        {
          "output_type": "stream",
          "name": "stderr",
          "text": [
            "WARNING:praw:It appears that you are using PRAW in an asynchronous environment.\n",
            "It is strongly recommended to use Async PRAW: https://asyncpraw.readthedocs.io.\n",
            "See https://praw.readthedocs.io/en/latest/getting_started/multiple_instances.html#discord-bots-and-asynchronous-environments for more info.\n",
            "\n"
          ]
        },
        {
          "output_type": "stream",
          "name": "stdout",
          "text": [
            "🔍 Scanning r/CryptoMarkets...\n"
          ]
        },
        {
          "output_type": "stream",
          "name": "stderr",
          "text": [
            "WARNING:praw:It appears that you are using PRAW in an asynchronous environment.\n",
            "It is strongly recommended to use Async PRAW: https://asyncpraw.readthedocs.io.\n",
            "See https://praw.readthedocs.io/en/latest/getting_started/multiple_instances.html#discord-bots-and-asynchronous-environments for more info.\n",
            "\n"
          ]
        },
        {
          "output_type": "stream",
          "name": "stdout",
          "text": [
            "🔍 Scanning r/Ethereum...\n"
          ]
        },
        {
          "output_type": "stream",
          "name": "stderr",
          "text": [
            "WARNING:praw:It appears that you are using PRAW in an asynchronous environment.\n",
            "It is strongly recommended to use Async PRAW: https://asyncpraw.readthedocs.io.\n",
            "See https://praw.readthedocs.io/en/latest/getting_started/multiple_instances.html#discord-bots-and-asynchronous-environments for more info.\n",
            "\n"
          ]
        },
        {
          "output_type": "stream",
          "name": "stdout",
          "text": [
            "🔍 Scanning r/CryptoMoonShots...\n",
            "\n",
            "📊 Sentiment Totals: Positive=160, Negative=65, Neutral=267\n",
            "📢 Decision: BUY\n",
            "💰 Live BTC Price: $111372\n",
            "✅ Bought 0.000898 BTC at $111372.00\n",
            "📁 Logged trade to 'sentiment_trade_log.txt'\n",
            "📤 Logged to Google Sheet: ['2025-05-22 16:10:22', 'BUY', '0.1931', '111372.00', '500.00', '0.004490']\n",
            "📧 Email sent! Status: 202\n",
            "⏳ Waiting 10 seconds...\n",
            "\n"
          ]
        },
        {
          "output_type": "stream",
          "name": "stderr",
          "text": [
            "WARNING:praw:It appears that you are using PRAW in an asynchronous environment.\n",
            "It is strongly recommended to use Async PRAW: https://asyncpraw.readthedocs.io.\n",
            "See https://praw.readthedocs.io/en/latest/getting_started/multiple_instances.html#discord-bots-and-asynchronous-environments for more info.\n",
            "\n"
          ]
        },
        {
          "output_type": "stream",
          "name": "stdout",
          "text": [
            "\n",
            "⏱️ Run 6/6 - 2025-05-22 16:10:33.077758 UTC\n",
            "\n",
            "🔍 Scanning r/Bitcoin...\n"
          ]
        },
        {
          "output_type": "stream",
          "name": "stderr",
          "text": [
            "WARNING:praw:It appears that you are using PRAW in an asynchronous environment.\n",
            "It is strongly recommended to use Async PRAW: https://asyncpraw.readthedocs.io.\n",
            "See https://praw.readthedocs.io/en/latest/getting_started/multiple_instances.html#discord-bots-and-asynchronous-environments for more info.\n",
            "\n"
          ]
        },
        {
          "output_type": "stream",
          "name": "stdout",
          "text": [
            "🔍 Scanning r/CryptoCurrency...\n"
          ]
        },
        {
          "output_type": "stream",
          "name": "stderr",
          "text": [
            "WARNING:praw:It appears that you are using PRAW in an asynchronous environment.\n",
            "It is strongly recommended to use Async PRAW: https://asyncpraw.readthedocs.io.\n",
            "See https://praw.readthedocs.io/en/latest/getting_started/multiple_instances.html#discord-bots-and-asynchronous-environments for more info.\n",
            "\n"
          ]
        },
        {
          "output_type": "stream",
          "name": "stdout",
          "text": [
            "🔍 Scanning r/CryptoMarkets...\n"
          ]
        },
        {
          "output_type": "stream",
          "name": "stderr",
          "text": [
            "WARNING:praw:It appears that you are using PRAW in an asynchronous environment.\n",
            "It is strongly recommended to use Async PRAW: https://asyncpraw.readthedocs.io.\n",
            "See https://praw.readthedocs.io/en/latest/getting_started/multiple_instances.html#discord-bots-and-asynchronous-environments for more info.\n",
            "\n"
          ]
        },
        {
          "output_type": "stream",
          "name": "stdout",
          "text": [
            "🔍 Scanning r/Ethereum...\n"
          ]
        },
        {
          "output_type": "stream",
          "name": "stderr",
          "text": [
            "WARNING:praw:It appears that you are using PRAW in an asynchronous environment.\n",
            "It is strongly recommended to use Async PRAW: https://asyncpraw.readthedocs.io.\n",
            "See https://praw.readthedocs.io/en/latest/getting_started/multiple_instances.html#discord-bots-and-asynchronous-environments for more info.\n",
            "\n"
          ]
        },
        {
          "output_type": "stream",
          "name": "stdout",
          "text": [
            "🔍 Scanning r/CryptoMoonShots...\n",
            "\n",
            "📊 Sentiment Totals: Positive=160, Negative=65, Neutral=267\n",
            "📢 Decision: BUY\n",
            "💰 Live BTC Price: $111378\n",
            "✅ Bought 0.000898 BTC at $111378.00\n",
            "📁 Logged trade to 'sentiment_trade_log.txt'\n",
            "📤 Logged to Google Sheet: ['2025-05-22 16:10:40', 'BUY', '0.1931', '111378.00', '400.00', '0.005387']\n",
            "📧 Email sent! Status: 202\n"
          ]
        },
        {
          "output_type": "display_data",
          "data": {
            "text/plain": [
              "<Figure size 700x700 with 1 Axes>"
            ],
            "image/png": "[encoded data removed]"
          },
          "metadata": {}
        },
        {
          "output_type": "display_data",
          "data": {
            "text/plain": [
              "<Figure size 600x600 with 1 Axes>"
            ],
            "image/png": "[encoded data removed]"
          },
          "metadata": {}
        },
        {
          "output_type": "stream",
          "name": "stdout",
          "text": [
            "✅ Finished all runs successfully.\n"
          ]
        }
      ],
      "source": [
        "import os\n",
        "from dotenv import load_dotenv\n",
        "import praw\n",
        "import requests\n",
        "from datetime import datetime\n",
        "import time\n",
        "from vaderSentiment.vaderSentiment import SentimentIntensityAnalyzer\n",
        "import matplotlib.pyplot as plt\n",
        "from sendgrid import SendGridAPIClient\n",
        "from sendgrid.helpers.mail import Mail\n",
        "import pandas as pd\n",
        "from google.colab import files\n",
        "uploaded = files.upload()\n",
        "import gspread\n",
        "from oauth2client.service_account import ServiceAccountCredentials\n",
        "\n",
        "# Load .env file\n",
        "load_dotenv()\n",
        "\n",
        "def setup_google_sheets(json_keyfile_path, sheet_id, worksheet_name=\"Sheet1\"):\n",
        "    scope = [\n",
        "        \"https://spreadsheets.google.com/feeds\",\n",
        "        \"https://www.googleapis.com/auth/spreadsheets\",\n",
        "        \"https://www.googleapis.com/auth/drive\"\n",
        "    ]\n",
        "    creds = ServiceAccountCredentials.from_json_keyfile_name(json_keyfile_path, scope)\n",
        "    client = gspread.authorize(creds)\n",
        "    sheet = client.open_by_key(sheet_id).worksheet(worksheet_name)\n",
        "    return sheet\n",
        "\n",
        "# Add headers if the sheet is empty\n",
        "def add_headers_if_needed(sheet):\n",
        "    try:\n",
        "        first_row = sheet.row_values(1)\n",
        "        if len(first_row) == 0:\n",
        "            headers = [\"Timestamp\", \"Action\", \"Sentiment Score\", \"BTC Price (USD)\", \"USD Balance\", \"BTC Balance\"]\n",
        "            sheet.append_row(headers)\n",
        "            print(\"✅ Headers added to Google Sheet.\")\n",
        "        else:\n",
        "            print(\"ℹ️ Headers already present.\")\n",
        "    except Exception as e:\n",
        "        print(f\"⚠️ Error checking/adding headers: {e}\")\n",
        "\n",
        "# Google Sheets logging\n",
        "def log_trade_to_google_sheets(sheet, action, sentiment_score, btc_price, usd_balance, btc_balance):\n",
        "    timestamp = datetime.now().strftime(\"%Y-%m-%d %H:%M:%S\")\n",
        "    row = [\n",
        "        timestamp,\n",
        "        action,\n",
        "        f\"{sentiment_score:.4f}\",\n",
        "        f\"{btc_price:.2f}\",\n",
        "        f\"{usd_balance:.2f}\",\n",
        "        f\"{btc_balance:.6f}\"\n",
        "    ]\n",
        "    sheet.append_row(row)\n",
        "    print(f\"📤 Logged to Google Sheet: {row}\")\n",
        "\n",
        "# Simulate and log a single trading decision\n",
        "def run_bot(sheet):\n",
        "    log_file = \"sentiment_trade_log.txt\"\n",
        "    usd_balance = 1000.0\n",
        "    btc_balance = 0.0\n",
        "\n",
        "    sentiment_score = get_avg_sentiment()\n",
        "    btc_price = get_btc_price()\n",
        "    action = \"HOLD\"\n",
        "\n",
        "    if sentiment_score > 0.3:\n",
        "        action = \"BUY\"\n",
        "        usd_balance -= 100\n",
        "        btc_balance += 100 / btc_price\n",
        "    elif sentiment_score < -0.3:\n",
        "        action = \"SELL\"\n",
        "        btc_to_sell = 0.001\n",
        "        btc_balance -= btc_to_sell\n",
        "        usd_balance += btc_to_sell * btc_price\n",
        "\n",
        "    timestamp = datetime.now().strftime(\"%Y-%m-%d %H:%M:%S\")\n",
        "    log_line = f\"{timestamp} | Action: {action} | Sentiment: {sentiment_score:.4f} | BTC: ${btc_price:.2f} | USD: ${usd_balance:.2f} | BTC Bal: {btc_balance:.6f}\\n\"\n",
        "\n",
        "    # Local log\n",
        "    with open(log_file, \"a\") as f:\n",
        "        f.write(log_line)\n",
        "\n",
        "    print(log_line.strip())\n",
        "\n",
        "    # Google Sheets log\n",
        "    try:\n",
        "        log_trade_to_google_sheets(sheet, action, sentiment_score, btc_price, usd_balance, btc_balance)\n",
        "    except Exception as e:\n",
        "        print(f\"⚠️ Google Sheets logging failed: {e}\")\n",
        "\n",
        "# === CONFIGURE THESE ===\n",
        "json_keyfile_path = \"credentials.json\"  # Your uploaded JSON key file\n",
        "sheet_id = \"1whYmmYjQTddVyLiHJxuQl_95rXQPC2yvlrq5yP32JFo\"  # Your Sheet ID\n",
        "worksheet_name = \"Sheet1\"\n",
        "\n",
        "# === RUN ===\n",
        "sheet = setup_google_sheets(json_keyfile_path, sheet_id, worksheet_name)\n",
        "\n",
        "# Add headers if needed\n",
        "add_headers_if_needed(sheet)\n",
        "\n",
        "# The rest of your existing trading bot code...\n",
        "\n",
        "# SendGrid Email Alert Function\n",
        "\n",
        "email_sent_today = 0\n",
        "EMAIL_LIMIT = 20\n",
        "def send_email_alert(subject, content):\n",
        "    global email_sent_today\n",
        "    sendgrid_api_key = os.getenv(\"SENDGRID_API_KEY\")\n",
        "    from_email = os.getenv(\"ALERT_EMAIL_FROM\")\n",
        "    to_email = os.getenv(\"ALERT_EMAIL_TO\")\n",
        "\n",
        "    if not all([sendgrid_api_key, from_email, to_email]):\n",
        "        print(\"❌ Missing SendGrid config. Email not sent.\")\n",
        "        return\n",
        "    if email_sent_today >= EMAIL_LIMIT:\n",
        "        print(\"⛔ Email limit reached for the day. Not sending.\")\n",
        "        return\n",
        "\n",
        "    message = Mail(\n",
        "        from_email=from_email,\n",
        "        to_emails=to_email,\n",
        "        subject=subject,\n",
        "        plain_text_content=content\n",
        "    )\n",
        "\n",
        "    try:\n",
        "        sg = SendGridAPIClient(sendgrid_api_key)\n",
        "        response = sg.send(message)\n",
        "        print(f\"📧 Email sent! Status: {response.status_code}\")\n",
        "        email_sent_today += 1\n",
        "    except Exception as e:\n",
        "        print(f\"❌ Email sending failed: {str(e)}\")\n",
        "\n",
        "# Load credentials securely\n",
        "reddit_client_id = os.getenv(\"REDDIT_CLIENT_ID\")\n",
        "reddit_client_secret = os.getenv(\"REDDIT_CLIENT_SECRET\")\n",
        "reddit_user_agent = os.getenv(\"REDDIT_USER_AGENT\")\n",
        "\n",
        "# Verify credentials loaded (optional for debugging)\n",
        "if not all([reddit_client_id, reddit_client_secret, reddit_user_agent]):\n",
        "    raise ValueError(\"❌ One or more Reddit API credentials are missing. Check your .env file.\")\n",
        "\n",
        "# Set up Reddit API\n",
        "reddit = praw.Reddit(\n",
        "    client_id=reddit_client_id,\n",
        "    client_secret=reddit_client_secret,\n",
        "    user_agent=reddit_user_agent\n",
        ")\n",
        "\n",
        "print(\"✅ Reddit API is ready:\", reddit.read_only)\n",
        "\n",
        "# Get live BTC price\n",
        "def get_real_btc_price():\n",
        "    url = \"https://api.coingecko.com/api/v3/simple/price\"\n",
        "    params = {\"ids\": \"bitcoin\", \"vs_currencies\": \"usd\"}\n",
        "    response = requests.get(url, params=params)\n",
        "    if response.status_code == 200:\n",
        "        price = response.json()[\"bitcoin\"][\"usd\"]\n",
        "        print(f\"💰 Live BTC Price: ${price}\")\n",
        "        return price\n",
        "    else:\n",
        "        print(\"⚠️ Failed to fetch BTC price. Using fallback.\")\n",
        "        return 65000\n",
        "\n",
        "# Sentiment Analyzer\n",
        "analyzer = SentimentIntensityAnalyzer()\n",
        "\n",
        "# Simulated balances\n",
        "usd_balance = 1000.0\n",
        "btc_balance = 0.0\n",
        "\n",
        "run_numbers = []\n",
        "positive_list = []\n",
        "negative_list = []\n",
        "neutral_list = []\n",
        "\n",
        "# Function to get average sentiment score (implement based on your logic)\n",
        "def get_avg_sentiment():\n",
        "    # Placeholder - replace with your actual sentiment calculation\n",
        "    return 0.1  # example neutral/slightly positive\n",
        "\n",
        "# Function to get BTC price (if you have another, you can reuse)\n",
        "def get_btc_price():\n",
        "    return get_real_btc_price()\n",
        "\n",
        "# Run loop\n",
        "for run in range(6):\n",
        "    print(f\"\\n⏱️ Run {run + 1}/6 - {datetime.utcnow()} UTC\\n\")\n",
        "\n",
        "    subreddits = [\"Bitcoin\", \"CryptoCurrency\", \"CryptoMarkets\", \"Ethereum\", \"CryptoMoonShots\"]\n",
        "    positive = negative = neutral = 0\n",
        "\n",
        "    for sub in subreddits:\n",
        "        subreddit = reddit.subreddit(sub)\n",
        "        print(f\"🔍 Scanning r/{sub}...\")\n",
        "        for post in subreddit.hot(limit=100):\n",
        "            if not post.stickied:\n",
        "                score = analyzer.polarity_scores(post.title)[\"compound\"]\n",
        "                if score >= 0.05:\n",
        "                    positive += 1\n",
        "                elif score <= -0.05:\n",
        "                    negative += 1\n",
        "                else:\n",
        "                    neutral += 1\n",
        "\n",
        "    # Append to list for chart\n",
        "    run_numbers.append(run + 1)\n",
        "    positive_list.append(positive)\n",
        "    negative_list.append(negative)\n",
        "    neutral_list.append(neutral)\n",
        "\n",
        "    print(f\"\\n📊 Sentiment Totals: Positive={positive}, Negative={negative}, Neutral={neutral}\")\n",
        "\n",
        "    # Get signal\n",
        "    if positive > negative:\n",
        "        signal = \"BUY\"\n",
        "    elif negative > positive:\n",
        "        signal = \"SELL\"\n",
        "    else:\n",
        "        signal = \"HOLD\"\n",
        "\n",
        "    print(f\"📢 Decision: {signal}\")\n",
        "\n",
        "    # Get BTC price\n",
        "    btc_price = get_real_btc_price()\n",
        "\n",
        "    # Simulate trade\n",
        "    global usd_balance, btc_balance\n",
        "    if signal == \"BUY\" and usd_balance >= 100:\n",
        "        btc_bought = 100 / btc_price\n",
        "        usd_balance -= 100\n",
        "        btc_balance += btc_bought\n",
        "        print(f\"✅ Bought {btc_bought:.6f} BTC at ${btc_price:.2f}\")\n",
        "    elif signal == \"SELL\" and btc_balance >= 0.001:\n",
        "        usd_gained = 0.001 * btc_price\n",
        "        btc_balance -= 0.001\n",
        "        usd_balance += usd_gained\n",
        "        print(f\"✅ Sold 0.001 BTC at ${btc_price:.2f} for ${usd_gained:.2f}\")\n",
        "    else:\n",
        "        print(\"🛑 No trade executed.\")\n",
        "\n",
        "    # Log locally\n",
        "    with open(\"sentiment_trade_log.txt\", \"a\") as f:\n",
        "        f.write(f\"{datetime.utcnow()} | Signal: {signal} | USD: ${usd_balance:.2f} | BTC: {btc_balance:.6f}\\n\")\n",
        "\n",
        "    print(f\"📁 Logged trade to 'sentiment_trade_log.txt'\")\n",
        "\n",
        "    # Log to Google Sheets\n",
        "    try:\n",
        "        log_trade_to_google_sheets(sheet, signal, (positive - negative)/(positive + negative + neutral), btc_price, usd_balance, btc_balance)\n",
        "    except Exception as e:\n",
        "        print(f\"⚠️ Google Sheets logging failed: {e}\")\n",
        "\n",
        "    # Send email alert if BUY or SELL\n",
        "    if signal in [\"BUY\", \"SELL\"]:\n",
        "        email_subject = f\"[Crypto Bot] Trade Signal: {signal}\"\n",
        "        email_body = f\"Signal: {signal}\\nBTC Price: ${btc_price:.2f}\\nUSD: ${usd_balance:.2f}\\nBTC: {btc_balance:.6f} BTC\"\n",
        "        send_email_alert(email_subject, email_body)\n",
        "\n",
        "    if run < 5:\n",
        "        print(\"⏳ Waiting 10 seconds...\\n\")\n",
        "        time.sleep(10)\n",
        "\n",
        "# Pie chart\n",
        "labels = ['Positive', 'Negative', 'Neutral']\n",
        "sizes = [sum(positive_list), sum(negative_list), sum(neutral_list)]\n",
        "colors = ['green', 'red', 'gray']\n",
        "explode = (0.1, 0.1, 0)\n",
        "\n",
        "plt.figure(figsize=(7, 7))\n",
        "plt.pie(sizes, labels=labels, colors=colors, autopct='%1.1f%%', explode=explode, startangle=140, shadow=True)\n",
        "plt.title(\"Reddit Crypto Sentiment (Total from 6 Runs)\")\n",
        "plt.axis(\"equal\")\n",
        "plt.show()\n",
        "\n",
        "# Line chart\n",
        "plt.figure(figsize=(6, 6))\n",
        "plt.plot(run_numbers, positive_list, label=\"Positive\", color=\"green\", marker='o')\n",
        "plt.plot(run_numbers, negative_list, label=\"Negative\", color=\"red\", marker='o')\n",
        "plt.plot(run_numbers, neutral_list, label=\"Neutral\", color=\"gray\", marker='o')\n",
        "plt.xlabel(\"Run\")\n",
        "plt.ylabel(\"Post Count\")\n",
        "plt.title(\"Sentiment Trend\")\n",
        "plt.legend()\n",
        "plt.grid(True)\n",
        "plt.tight_layout()\n",
        "plt.show()\n",
        "\n",
        "print(\"✅ Finished all runs successfully.\")\n"
      ]
    },
    {
      "cell_type": "code",
      "execution_count": 7,
      "metadata": {
        "colab": {
          "base_uri": "https://localhost:8080/"
        },
        "id": "lC2V2pfEfPlX",
        "outputId": "bfffda05-7f48-4c54-c55e-481c44a0faae"
      },
      "outputs": [
        {
          "output_type": "stream",
          "name": "stdout",
          "text": [
            "Requirement already satisfied: textblob in /usr/local/lib/python3.11/dist-packages (0.19.0)\n",
            "Requirement already satisfied: nltk>=3.9 in /usr/local/lib/python3.11/dist-packages (from textblob) (3.9.1)\n",
            "Requirement already satisfied: click in /usr/local/lib/python3.11/dist-packages (from nltk>=3.9->textblob) (8.2.0)\n",
            "Requirement already satisfied: joblib in /usr/local/lib/python3.11/dist-packages (from nltk>=3.9->textblob) (1.5.0)\n",
            "Requirement already satisfied: regex>=2021.8.3 in /usr/local/lib/python3.11/dist-packages (from nltk>=3.9->textblob) (2024.11.6)\n",
            "Requirement already satisfied: tqdm in /usr/local/lib/python3.11/dist-packages (from nltk>=3.9->textblob) (4.67.1)\n",
            "Requirement already satisfied: praw in /usr/local/lib/python3.11/dist-packages (7.8.1)\n",
            "Requirement already satisfied: prawcore<3,>=2.4 in /usr/local/lib/python3.11/dist-packages (from praw) (2.4.0)\n",
            "Requirement already satisfied: update_checker>=0.18 in /usr/local/lib/python3.11/dist-packages (from praw) (0.18.0)\n",
            "Requirement already satisfied: websocket-client>=0.54.0 in /usr/local/lib/python3.11/dist-packages (from praw) (1.8.0)\n",
            "Requirement already satisfied: requests<3.0,>=2.6.0 in /usr/local/lib/python3.11/dist-packages (from prawcore<3,>=2.4->praw) (2.32.3)\n",
            "Requirement already satisfied: charset-normalizer<4,>=2 in /usr/local/lib/python3.11/dist-packages (from requests<3.0,>=2.6.0->prawcore<3,>=2.4->praw) (3.4.2)\n",
            "Requirement already satisfied: idna<4,>=2.5 in /usr/local/lib/python3.11/dist-packages (from requests<3.0,>=2.6.0->prawcore<3,>=2.4->praw) (3.10)\n",
            "Requirement already satisfied: urllib3<3,>=1.21.1 in /usr/local/lib/python3.11/dist-packages (from requests<3.0,>=2.6.0->prawcore<3,>=2.4->praw) (2.4.0)\n",
            "Requirement already satisfied: certifi>=2017.4.17 in /usr/local/lib/python3.11/dist-packages (from requests<3.0,>=2.6.0->prawcore<3,>=2.4->praw) (2025.4.26)\n",
            "Requirement already satisfied: vaderSentiment in /usr/local/lib/python3.11/dist-packages (3.3.2)\n",
            "Requirement already satisfied: requests in /usr/local/lib/python3.11/dist-packages (from vaderSentiment) (2.32.3)\n",
            "Requirement already satisfied: charset-normalizer<4,>=2 in /usr/local/lib/python3.11/dist-packages (from requests->vaderSentiment) (3.4.2)\n",
            "Requirement already satisfied: idna<4,>=2.5 in /usr/local/lib/python3.11/dist-packages (from requests->vaderSentiment) (3.10)\n",
            "Requirement already satisfied: urllib3<3,>=1.21.1 in /usr/local/lib/python3.11/dist-packages (from requests->vaderSentiment) (2.4.0)\n",
            "Requirement already satisfied: certifi>=2017.4.17 in /usr/local/lib/python3.11/dist-packages (from requests->vaderSentiment) (2025.4.26)\n",
            "Requirement already satisfied: matplotlib in /usr/local/lib/python3.11/dist-packages (3.10.0)\n",
            "Requirement already satisfied: contourpy>=1.0.1 in /usr/local/lib/python3.11/dist-packages (from matplotlib) (1.3.2)\n",
            "Requirement already satisfied: cycler>=0.10 in /usr/local/lib/python3.11/dist-packages (from matplotlib) (0.12.1)\n",
            "Requirement already satisfied: fonttools>=4.22.0 in /usr/local/lib/python3.11/dist-packages (from matplotlib) (4.58.0)\n",
            "Requirement already satisfied: kiwisolver>=1.3.1 in /usr/local/lib/python3.11/dist-packages (from matplotlib) (1.4.8)\n",
            "Requirement already satisfied: numpy>=1.23 in /usr/local/lib/python3.11/dist-packages (from matplotlib) (2.0.2)\n",
            "Requirement already satisfied: packaging>=20.0 in /usr/local/lib/python3.11/dist-packages (from matplotlib) (24.2)\n",
            "Requirement already satisfied: pillow>=8 in /usr/local/lib/python3.11/dist-packages (from matplotlib) (11.2.1)\n",
            "Requirement already satisfied: pyparsing>=2.3.1 in /usr/local/lib/python3.11/dist-packages (from matplotlib) (3.2.3)\n",
            "Requirement already satisfied: python-dateutil>=2.7 in /usr/local/lib/python3.11/dist-packages (from matplotlib) (2.9.0.post0)\n",
            "Requirement already satisfied: six>=1.5 in /usr/local/lib/python3.11/dist-packages (from python-dateutil>=2.7->matplotlib) (1.17.0)\n",
            "Requirement already satisfied: pandas in /usr/local/lib/python3.11/dist-packages (2.2.2)\n",
            "Requirement already satisfied: numpy>=1.23.2 in /usr/local/lib/python3.11/dist-packages (from pandas) (2.0.2)\n",
            "Requirement already satisfied: python-dateutil>=2.8.2 in /usr/local/lib/python3.11/dist-packages (from pandas) (2.9.0.post0)\n",
            "Requirement already satisfied: pytz>=2020.1 in /usr/local/lib/python3.11/dist-packages (from pandas) (2025.2)\n",
            "Requirement already satisfied: tzdata>=2022.7 in /usr/local/lib/python3.11/dist-packages (from pandas) (2025.2)\n",
            "Requirement already satisfied: six>=1.5 in /usr/local/lib/python3.11/dist-packages (from python-dateutil>=2.8.2->pandas) (1.17.0)\n",
            "Requirement already satisfied: ccxt in /usr/local/lib/python3.11/dist-packages (4.4.82)\n",
            "Requirement already satisfied: praw in /usr/local/lib/python3.11/dist-packages (7.8.1)\n",
            "Requirement already satisfied: textblob in /usr/local/lib/python3.11/dist-packages (0.19.0)\n",
            "Requirement already satisfied: setuptools>=60.9.0 in /usr/local/lib/python3.11/dist-packages (from ccxt) (75.2.0)\n",
            "Requirement already satisfied: certifi>=2018.1.18 in /usr/local/lib/python3.11/dist-packages (from ccxt) (2025.4.26)\n",
            "Requirement already satisfied: requests>=2.18.4 in /usr/local/lib/python3.11/dist-packages (from ccxt) (2.32.3)\n",
            "Requirement already satisfied: cryptography>=2.6.1 in /usr/local/lib/python3.11/dist-packages (from ccxt) (43.0.3)\n",
            "Requirement already satisfied: typing-extensions>=4.4.0 in /usr/local/lib/python3.11/dist-packages (from ccxt) (4.13.2)\n",
            "Requirement already satisfied: aiohttp<=3.10.11 in /usr/local/lib/python3.11/dist-packages (from ccxt) (3.10.11)\n",
            "Requirement already satisfied: aiodns>=1.1.1 in /usr/local/lib/python3.11/dist-packages (from ccxt) (3.4.0)\n",
            "Requirement already satisfied: yarl>=1.7.2 in /usr/local/lib/python3.11/dist-packages (from ccxt) (1.20.0)\n",
            "Requirement already satisfied: prawcore<3,>=2.4 in /usr/local/lib/python3.11/dist-packages (from praw) (2.4.0)\n",
            "Requirement already satisfied: update_checker>=0.18 in /usr/local/lib/python3.11/dist-packages (from praw) (0.18.0)\n",
            "Requirement already satisfied: websocket-client>=0.54.0 in /usr/local/lib/python3.11/dist-packages (from praw) (1.8.0)\n",
            "Requirement already satisfied: nltk>=3.9 in /usr/local/lib/python3.11/dist-packages (from textblob) (3.9.1)\n",
            "Requirement already satisfied: pycares>=4.0.0 in /usr/local/lib/python3.11/dist-packages (from aiodns>=1.1.1->ccxt) (4.8.0)\n",
            "Requirement already satisfied: aiohappyeyeballs>=2.3.0 in /usr/local/lib/python3.11/dist-packages (from aiohttp<=3.10.11->ccxt) (2.6.1)\n",
            "Requirement already satisfied: aiosignal>=1.1.2 in /usr/local/lib/python3.11/dist-packages (from aiohttp<=3.10.11->ccxt) (1.3.2)\n",
            "Requirement already satisfied: attrs>=17.3.0 in /usr/local/lib/python3.11/dist-packages (from aiohttp<=3.10.11->ccxt) (25.3.0)\n",
            "Requirement already satisfied: frozenlist>=1.1.1 in /usr/local/lib/python3.11/dist-packages (from aiohttp<=3.10.11->ccxt) (1.6.0)\n",
            "Requirement already satisfied: multidict<7.0,>=4.5 in /usr/local/lib/python3.11/dist-packages (from aiohttp<=3.10.11->ccxt) (6.4.3)\n",
            "Requirement already satisfied: cffi>=1.12 in /usr/local/lib/python3.11/dist-packages (from cryptography>=2.6.1->ccxt) (1.17.1)\n",
            "Requirement already satisfied: click in /usr/local/lib/python3.11/dist-packages (from nltk>=3.9->textblob) (8.2.0)\n",
            "Requirement already satisfied: joblib in /usr/local/lib/python3.11/dist-packages (from nltk>=3.9->textblob) (1.5.0)\n",
            "Requirement already satisfied: regex>=2021.8.3 in /usr/local/lib/python3.11/dist-packages (from nltk>=3.9->textblob) (2024.11.6)\n",
            "Requirement already satisfied: tqdm in /usr/local/lib/python3.11/dist-packages (from nltk>=3.9->textblob) (4.67.1)\n",
            "Requirement already satisfied: charset-normalizer<4,>=2 in /usr/local/lib/python3.11/dist-packages (from requests>=2.18.4->ccxt) (3.4.2)\n",
            "Requirement already satisfied: idna<4,>=2.5 in /usr/local/lib/python3.11/dist-packages (from requests>=2.18.4->ccxt) (3.10)\n",
            "Requirement already satisfied: urllib3<3,>=1.21.1 in /usr/local/lib/python3.11/dist-packages (from requests>=2.18.4->ccxt) (2.4.0)\n",
            "Requirement already satisfied: propcache>=0.2.1 in /usr/local/lib/python3.11/dist-packages (from yarl>=1.7.2->ccxt) (0.3.1)\n",
            "Requirement already satisfied: pycparser in /usr/local/lib/python3.11/dist-packages (from cffi>=1.12->cryptography>=2.6.1->ccxt) (2.22)\n",
            "Requirement already satisfied: requests in /usr/local/lib/python3.11/dist-packages (2.32.3)\n",
            "Requirement already satisfied: charset-normalizer<4,>=2 in /usr/local/lib/python3.11/dist-packages (from requests) (3.4.2)\n",
            "Requirement already satisfied: idna<4,>=2.5 in /usr/local/lib/python3.11/dist-packages (from requests) (3.10)\n",
            "Requirement already satisfied: urllib3<3,>=1.21.1 in /usr/local/lib/python3.11/dist-packages (from requests) (2.4.0)\n",
            "Requirement already satisfied: certifi>=2017.4.17 in /usr/local/lib/python3.11/dist-packages (from requests) (2025.4.26)\n",
            "Requirement already satisfied: python-dotenv in /usr/local/lib/python3.11/dist-packages (1.1.0)\n",
            "Requirement already satisfied: sendgrid in /usr/local/lib/python3.11/dist-packages (6.12.2)\n",
            "Requirement already satisfied: python-http-client>=3.2.1 in /usr/local/lib/python3.11/dist-packages (from sendgrid) (3.3.7)\n",
            "Requirement already satisfied: ecdsa<1,>=0.19.1 in /usr/local/lib/python3.11/dist-packages (from sendgrid) (0.19.1)\n",
            "Requirement already satisfied: werkzeug>=3.0.0 in /usr/local/lib/python3.11/dist-packages (from sendgrid) (3.1.3)\n",
            "Requirement already satisfied: six>=1.9.0 in /usr/local/lib/python3.11/dist-packages (from ecdsa<1,>=0.19.1->sendgrid) (1.17.0)\n",
            "Requirement already satisfied: MarkupSafe>=2.1.1 in /usr/local/lib/python3.11/dist-packages (from werkzeug>=3.0.0->sendgrid) (3.0.2)\n",
            "Requirement already satisfied: gspread in /usr/local/lib/python3.11/dist-packages (6.2.1)\n",
            "Requirement already satisfied: oauth2client in /usr/local/lib/python3.11/dist-packages (4.1.3)\n",
            "Requirement already satisfied: google-auth>=1.12.0 in /usr/local/lib/python3.11/dist-packages (from gspread) (2.38.0)\n",
            "Requirement already satisfied: google-auth-oauthlib>=0.4.1 in /usr/local/lib/python3.11/dist-packages (from gspread) (1.2.2)\n",
            "Requirement already satisfied: httplib2>=0.9.1 in /usr/local/lib/python3.11/dist-packages (from oauth2client) (0.22.0)\n",
            "Requirement already satisfied: pyasn1>=0.1.7 in /usr/local/lib/python3.11/dist-packages (from oauth2client) (0.6.1)\n",
            "Requirement already satisfied: pyasn1-modules>=0.0.5 in /usr/local/lib/python3.11/dist-packages (from oauth2client) (0.4.2)\n",
            "Requirement already satisfied: rsa>=3.1.4 in /usr/local/lib/python3.11/dist-packages (from oauth2client) (4.9.1)\n",
            "Requirement already satisfied: six>=1.6.1 in /usr/local/lib/python3.11/dist-packages (from oauth2client) (1.17.0)\n",
            "Requirement already satisfied: cachetools<6.0,>=2.0.0 in /usr/local/lib/python3.11/dist-packages (from google-auth>=1.12.0->gspread) (5.5.2)\n",
            "Requirement already satisfied: requests-oauthlib>=0.7.0 in /usr/local/lib/python3.11/dist-packages (from google-auth-oauthlib>=0.4.1->gspread) (2.0.0)\n",
            "Requirement already satisfied: pyparsing!=3.0.0,!=3.0.1,!=3.0.2,!=3.0.3,<4,>=2.4.2 in /usr/local/lib/python3.11/dist-packages (from httplib2>=0.9.1->oauth2client) (3.2.3)\n",
            "Requirement already satisfied: oauthlib>=3.0.0 in /usr/local/lib/python3.11/dist-packages (from requests-oauthlib>=0.7.0->google-auth-oauthlib>=0.4.1->gspread) (3.2.2)\n",
            "Requirement already satisfied: requests>=2.0.0 in /usr/local/lib/python3.11/dist-packages (from requests-oauthlib>=0.7.0->google-auth-oauthlib>=0.4.1->gspread) (2.32.3)\n",
            "Requirement already satisfied: charset-normalizer<4,>=2 in /usr/local/lib/python3.11/dist-packages (from requests>=2.0.0->requests-oauthlib>=0.7.0->google-auth-oauthlib>=0.4.1->gspread) (3.4.2)\n",
            "Requirement already satisfied: idna<4,>=2.5 in /usr/local/lib/python3.11/dist-packages (from requests>=2.0.0->requests-oauthlib>=0.7.0->google-auth-oauthlib>=0.4.1->gspread) (3.10)\n",
            "Requirement already satisfied: urllib3<3,>=1.21.1 in /usr/local/lib/python3.11/dist-packages (from requests>=2.0.0->requests-oauthlib>=0.7.0->google-auth-oauthlib>=0.4.1->gspread) (2.4.0)\n",
            "Requirement already satisfied: certifi>=2017.4.17 in /usr/local/lib/python3.11/dist-packages (from requests>=2.0.0->requests-oauthlib>=0.7.0->google-auth-oauthlib>=0.4.1->gspread) (2025.4.26)\n"
          ]
        }
      ],
      "source": [
        "\n",
        "!pip install textblob\n",
        "!pip install praw\n",
        "!pip install vaderSentiment\n",
        "!pip install matplotlib\n",
        "!pip install pandas\n",
        "!pip install ccxt praw textblob\n",
        "!pip install requests\n",
        "!pip install python-dotenv\n",
        "!pip install sendgrid\n",
        "!pip install --upgrade gspread oauth2client\n",
        "\n"
      ]
    },
    {
      "cell_type": "code",
      "execution_count": null,
      "metadata": {
        "id": "1rkCXnY_gNE2"
      },
      "outputs": [],
      "source": [
        "\n",
        "\n"
      ]
    }
  ],
  "metadata": {
    "colab": {
      "provenance": [],
      "authorship_tag": "ABX9TyPW14BF4FiIz5Z//ec+CIS5",
      "include_colab_link": true
    },
    "kernelspec": {
      "display_name": "Python 3",
      "name": "python3"
    },
    "language_info": {
      "name": "python"
    }
  },
  "nbformat": 4,
  "nbformat_minor": 0
}